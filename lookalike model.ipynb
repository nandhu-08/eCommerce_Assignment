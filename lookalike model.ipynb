{
 "cells": [
  {
   "cell_type": "code",
   "execution_count": 1,
   "id": "f04471f1-160c-43fb-936a-c3ff01a9d80f",
   "metadata": {},
   "outputs": [],
   "source": [
    "# importing libraries\n",
    "import pandas as pd\n",
    "from sklearn.metrics.pairwise import cosine_similarity\n",
    "from sklearn.preprocessing import StandardScaler\n"
   ]
  },
  {
   "cell_type": "code",
   "execution_count": 3,
   "id": "102214e3-1f5e-49bf-bad7-59c0e1cf9e22",
   "metadata": {},
   "outputs": [],
   "source": [
    "# load datasets\n",
    "customers = pd.read_csv(r\"C:\\Users\\brnan\\Downloads\\Customers.csv\")\n",
    "products = pd.read_csv(r\"C:\\Users\\brnan\\Downloads\\Products.csv\")\n",
    "transactions = pd.read_csv(r\"C:\\Users\\brnan\\Downloads\\Transactions.csv\")"
   ]
  },
  {
   "cell_type": "code",
   "execution_count": 5,
   "id": "9be99a91-b5f6-49a5-9959-92915e8baec9",
   "metadata": {},
   "outputs": [
    {
     "name": "stdout",
     "output_type": "stream",
     "text": [
      "Customers: (200, 4)\n",
      "Products: (100, 4)\n",
      "Transactions: (1000, 7)\n"
     ]
    }
   ],
   "source": [
    "# Display shapes of datasets\n",
    "print(f\"Customers: {customers.shape}\")\n",
    "print(f\"Products: {products.shape}\")\n",
    "print(f\"Transactions: {transactions.shape}\")"
   ]
  },
  {
   "cell_type": "code",
   "execution_count": 4,
   "id": "1a10014c-aaab-4e14-9c92-44793bdde1af",
   "metadata": {},
   "outputs": [],
   "source": [
    "# Merge datasets\n",
    "merged_data = transactions.merge(customers, on='CustomerID').merge(products, on='ProductID')\n"
   ]
  },
  {
   "cell_type": "code",
   "execution_count": 6,
   "id": "7a7ffcc9-a615-4cb2-889a-18e1b164effd",
   "metadata": {},
   "outputs": [
    {
     "name": "stdout",
     "output_type": "stream",
     "text": [
      "Merged Data: (1000, 13)\n"
     ]
    }
   ],
   "source": [
    "print(f\"Merged Data: {merged_data.shape}\")"
   ]
  },
  {
   "cell_type": "markdown",
   "id": "3b66be60-8725-49ef-9702-e0e63d8b4561",
   "metadata": {},
   "source": [
    "* customer feature preparation\n",
    "  - Aggregate features for each customer:\n",
    "Combine transaction and product data to create a customer feature set"
   ]
  },
  {
   "cell_type": "code",
   "execution_count": 32,
   "id": "22b8e9f7-194b-4d1c-a174-0622745c12e3",
   "metadata": {},
   "outputs": [
    {
     "name": "stdout",
     "output_type": "stream",
     "text": [
      "  TransactionID CustomerID ProductID      TransactionDate  Quantity  \\\n",
      "0        T00001      C0199      P067  2024-08-25 12:38:23         1   \n",
      "1        T00112      C0146      P067  2024-05-27 22:23:54         1   \n",
      "2        T00166      C0127      P067  2024-04-25 07:38:55         1   \n",
      "3        T00272      C0087      P067  2024-03-26 22:55:37         2   \n",
      "4        T00363      C0070      P067  2024-03-21 15:10:10         3   \n",
      "\n",
      "   TotalValue     CustomerName         Region  SignupDate  \\\n",
      "0      300.68   Andrea Jenkins         Europe  2022-12-03   \n",
      "1      300.68  Brittany Harvey           Asia  2024-09-04   \n",
      "2      300.68  Kathryn Stevens         Europe  2024-04-04   \n",
      "3      601.36  Travis Campbell  South America  2024-04-11   \n",
      "4      902.04    Timothy Perez         Europe  2022-03-15   \n",
      "\n",
      "                       ProductName     Category   Price  \n",
      "0  ComfortLiving Bluetooth Speaker  Electronics  300.68  \n",
      "1  ComfortLiving Bluetooth Speaker  Electronics  300.68  \n",
      "2  ComfortLiving Bluetooth Speaker  Electronics  300.68  \n",
      "3  ComfortLiving Bluetooth Speaker  Electronics  300.68  \n",
      "4  ComfortLiving Bluetooth Speaker  Electronics  300.68  \n"
     ]
    }
   ],
   "source": [
    "print(merged_data.head())\n"
   ]
  },
  {
   "cell_type": "code",
   "execution_count": 18,
   "id": "b9e792ac-2330-4d20-81d4-69acfc87933f",
   "metadata": {},
   "outputs": [],
   "source": [
    "#for merging 'price x' and 'price y'\n",
    "merged_data['Price'] = merged_data['Price_x'].combine_first(merged_data['Price_y'])\n",
    "merged_data= merged_data.drop(['Price_x', 'Price_y'], axis=1)"
   ]
  },
  {
   "cell_type": "code",
   "execution_count": 19,
   "id": "170a37e3-3e06-4dd5-ab21-c7995f9f2990",
   "metadata": {},
   "outputs": [],
   "source": [
    "# Aggregate transaction features for customers\n",
    "customer_features = merged_data.groupby('CustomerID').agg({\n",
    "    'TotalValue': 'mean',          # Average transaction value\n",
    "    'Quantity': 'sum',             # Total products purchased\n",
    "    'Price': 'mean',               # Average product price purchased\n",
    "    'Category': lambda x: ','.join(x.unique())  # Concatenate unique product categories\n",
    "}).reset_index()"
   ]
  },
  {
   "cell_type": "code",
   "execution_count": 20,
   "id": "97e96cac-1c42-4fda-b855-9ce3e54154e6",
   "metadata": {},
   "outputs": [],
   "source": [
    "# Encode categorical data (e.g., categories)\n",
    "customer_features = pd.concat([customer_features, pd.get_dummies(customer_features['Category'])], axis=1)\n",
    "customer_features.drop(columns=['Category'], inplace=True)"
   ]
  },
  {
   "cell_type": "code",
   "execution_count": 21,
   "id": "1f219fdd-e093-4f53-9451-8dce20bf336f",
   "metadata": {},
   "outputs": [],
   "source": [
    "# Standardize numerical features\n",
    "scaler = StandardScaler()\n",
    "scaled_features = scaler.fit_transform(customer_features.iloc[:, 1:])"
   ]
  },
  {
   "cell_type": "code",
   "execution_count": 22,
   "id": "27ac4b17-2284-49e2-8134-b031272f870e",
   "metadata": {},
   "outputs": [
    {
     "name": "stdout",
     "output_type": "stream",
     "text": [
      "  CustomerID  TotalValue  Quantity       Price  Books  Books,Clothing  \\\n",
      "0      C0001     670.904        12  278.334000  False           False   \n",
      "1      C0002     465.685        10  208.920000  False           False   \n",
      "2      C0003     681.345        14  195.707500  False           False   \n",
      "3      C0004     669.360        23  240.636250  False           False   \n",
      "4      C0005     678.080         7  291.603333  False           False   \n",
      "\n",
      "   Books,Clothing,Electronics  Books,Clothing,Home Decor,Electronics  \\\n",
      "0                       False                                  False   \n",
      "1                       False                                  False   \n",
      "2                       False                                  False   \n",
      "3                       False                                  False   \n",
      "4                       False                                  False   \n",
      "\n",
      "   Books,Electronics  Books,Electronics,Clothing  ...  \\\n",
      "0              False                       False  ...   \n",
      "1              False                       False  ...   \n",
      "2              False                       False  ...   \n",
      "3              False                       False  ...   \n",
      "4              False                       False  ...   \n",
      "\n",
      "   Home Decor,Books,Electronics,Clothing  Home Decor,Clothing  \\\n",
      "0                                  False                False   \n",
      "1                                  False                 True   \n",
      "2                                  False                False   \n",
      "3                                  False                False   \n",
      "4                                  False                False   \n",
      "\n",
      "   Home Decor,Clothing,Books  Home Decor,Clothing,Books,Electronics  \\\n",
      "0                      False                                  False   \n",
      "1                      False                                  False   \n",
      "2                      False                                  False   \n",
      "3                      False                                  False   \n",
      "4                      False                                  False   \n",
      "\n",
      "   Home Decor,Clothing,Electronics,Books  Home Decor,Electronics  \\\n",
      "0                                  False                   False   \n",
      "1                                  False                   False   \n",
      "2                                  False                   False   \n",
      "3                                  False                   False   \n",
      "4                                  False                   False   \n",
      "\n",
      "   Home Decor,Electronics,Books  Home Decor,Electronics,Books,Clothing  \\\n",
      "0                          True                                  False   \n",
      "1                         False                                  False   \n",
      "2                         False                                  False   \n",
      "3                         False                                  False   \n",
      "4                         False                                  False   \n",
      "\n",
      "   Home Decor,Electronics,Clothing  Home Decor,Electronics,Clothing,Books  \n",
      "0                            False                                  False  \n",
      "1                            False                                  False  \n",
      "2                            False                                  False  \n",
      "3                            False                                  False  \n",
      "4                            False                                  False  \n",
      "\n",
      "[5 rows x 62 columns]\n"
     ]
    }
   ],
   "source": [
    "# Display final feature set\n",
    "print(customer_features.head())"
   ]
  },
  {
   "cell_type": "markdown",
   "id": "e35e1ad1-2ab8-4e7e-9519-8dbc6ffb554a",
   "metadata": {},
   "source": [
    "# computing similarity scores"
   ]
  },
  {
   "cell_type": "code",
   "execution_count": 23,
   "id": "aa5df091-d109-4fd8-bfc3-d121e1430593",
   "metadata": {},
   "outputs": [],
   "source": [
    "# Compute similarity matrix\n",
    "similarity_matrix = cosine_similarity(scaled_features)"
   ]
  },
  {
   "cell_type": "code",
   "execution_count": 24,
   "id": "f17d7f56-ae6a-4b03-ac76-a220799c94ab",
   "metadata": {},
   "outputs": [],
   "source": [
    "# Convert to DataFrame for readability\n",
    "similarity_df = pd.DataFrame(similarity_matrix, index=customer_features['CustomerID'], columns=customer_features['CustomerID'])"
   ]
  },
  {
   "cell_type": "code",
   "execution_count": 25,
   "id": "9db696df-d142-4106-8406-44d920e0e0e8",
   "metadata": {},
   "outputs": [
    {
     "name": "stdout",
     "output_type": "stream",
     "text": [
      "CustomerID     C0001     C0002     C0003     C0004     C0005     C0006  \\\n",
      "CustomerID                                                               \n",
      "C0001       1.000000 -0.011792 -0.013804 -0.025803 -0.016797 -0.025678   \n",
      "C0002      -0.011792  1.000000 -0.000739 -0.021304 -0.012656 -0.063572   \n",
      "C0003      -0.013804 -0.000739  1.000000 -0.003071 -0.023643 -0.040602   \n",
      "C0004      -0.025803 -0.021304 -0.003071  1.000000 -0.070953 -0.058445   \n",
      "C0005      -0.016797 -0.012656 -0.023643 -0.070953  1.000000 -0.023371   \n",
      "\n",
      "CustomerID     C0007     C0008     C0009     C0010  ...     C0191     C0192  \\\n",
      "CustomerID                                          ...                       \n",
      "C0001      -0.016398 -0.021408 -0.007867 -0.021982  ... -0.023458 -0.018001   \n",
      "C0002      -0.036123  0.000178  0.008669  0.025945  ... -0.013936 -0.003227   \n",
      "C0003      -0.037141 -0.001582 -0.016580  0.013886  ... -0.024996 -0.023518   \n",
      "C0004      -0.073905  0.032733 -0.060433 -0.010791  ... -0.052148 -0.067277   \n",
      "C0005       0.984233 -0.054111  0.009986 -0.034962  ... -0.022370 -0.005908   \n",
      "\n",
      "CustomerID     C0193     C0194     C0195     C0196     C0197     C0198  \\\n",
      "CustomerID                                                               \n",
      "C0001      -0.017513 -0.020063 -0.013904 -0.021524 -0.014684 -0.009504   \n",
      "C0002      -0.014447 -0.003756 -0.007449 -0.088956  0.000351  0.009826   \n",
      "C0003      -0.013302 -0.008686 -0.002505 -0.060006 -0.005084 -0.007770   \n",
      "C0004      -0.034660 -0.012692  0.006492 -0.069827 -0.035341 -0.055591   \n",
      "C0005      -0.017749 -0.032119 -0.028411 -0.011987 -0.011877  0.005889   \n",
      "\n",
      "CustomerID     C0199     C0200  \n",
      "CustomerID                      \n",
      "C0001      -0.017556 -0.023558  \n",
      "C0002       0.004586 -0.044064  \n",
      "C0003      -0.012195 -0.022439  \n",
      "C0004      -0.048246 -0.011231  \n",
      "C0005       0.987143 -0.039106  \n",
      "\n",
      "[5 rows x 199 columns]\n"
     ]
    }
   ],
   "source": [
    "# Display the similarity matrix\n",
    "print(similarity_df.head())"
   ]
  },
  {
   "cell_type": "markdown",
   "id": "3722a21a-0670-417c-b87d-10d13a0435cb",
   "metadata": {},
   "source": [
    "# recommend similar customers"
   ]
  },
  {
   "cell_type": "code",
   "execution_count": 26,
   "id": "570d7223-06fb-41f7-90c6-ec4eb4cb535b",
   "metadata": {},
   "outputs": [],
   "source": [
    "# Function to recommend similar customers\n",
    "def get_similar_customers(customer_id, top_n=3):\n",
    "    # Get similarity scores for the given customer\n",
    "    similar_scores = similarity_df[customer_id]\n",
    "    # Sort by similarity score in descending order and exclude the customer itself\n",
    "    top_similar = similar_scores.sort_values(ascending=False).iloc[1:top_n+1]\n",
    "    # Return the top N similar customers with their scores\n",
    "    return top_similar.index.tolist(), top_similar.values.tolist()"
   ]
  },
  {
   "cell_type": "code",
   "execution_count": 27,
   "id": "e459c3a1-f3be-4f40-96b3-08aa7d4bdb5c",
   "metadata": {},
   "outputs": [
    {
     "name": "stdout",
     "output_type": "stream",
     "text": [
      "Top similar customers for C0001: [('C0035', 0.9961697279374134), ('C0065', 0.9563303320111434), ('C0058', -0.0073516258757234665)]\n"
     ]
    }
   ],
   "source": [
    "# Test the function\n",
    "test_customer = customer_features['CustomerID'].iloc[0]\n",
    "similar_customers, scores = get_similar_customers(test_customer)\n",
    "print(f\"Top similar customers for {test_customer}: {list(zip(similar_customers, scores))}\")"
   ]
  },
  {
   "cell_type": "markdown",
   "id": "26bc9dfa-0b60-4209-98be-1949cc4e5551",
   "metadata": {},
   "source": [
    "# Recommendations for the First 20 Customers"
   ]
  },
  {
   "cell_type": "code",
   "execution_count": 28,
   "id": "89463d0c-9e4c-4043-96dd-6bf33ce41a4f",
   "metadata": {},
   "outputs": [],
   "source": [
    "lookalike_recommendations = []\n",
    "\n",
    "for customer_id in customer_features['CustomerID'][:20]:\n",
    "    similar_customers, scores = get_similar_customers(customer_id)\n",
    "    # Append the recommendations to the list\n",
    "    lookalike_recommendations.append({\n",
    "        \"CustomerID\": customer_id,\n",
    "        \"Recommendations\": list(zip(similar_customers, scores))\n",
    "    })"
   ]
  },
  {
   "cell_type": "code",
   "execution_count": 29,
   "id": "bbe66076-293d-48f6-8bb6-5892d10d6c91",
   "metadata": {},
   "outputs": [],
   "source": [
    "recommendations_df = pd.DataFrame(lookalike_recommendations)"
   ]
  },
  {
   "cell_type": "code",
   "execution_count": 33,
   "id": "fa0e2113-4434-4715-a313-10c68acbb9f9",
   "metadata": {},
   "outputs": [
    {
     "name": "stdout",
     "output_type": "stream",
     "text": [
      "Lookalike recommendations saved to CSV: Lookalike.csv\n"
     ]
    }
   ],
   "source": [
    "# Save to CSV\n",
    "recommendations_df.to_csv('lookalike.csv', index=False)\n",
    "print(\"Lookalike recommendations saved to CSV: Lookalike.csv\")"
   ]
  },
  {
   "cell_type": "code",
   "execution_count": null,
   "id": "2381c185-f3b8-4f44-8887-10d95b97a996",
   "metadata": {},
   "outputs": [],
   "source": []
  }
 ],
 "metadata": {
  "kernelspec": {
   "display_name": "Python 3 (ipykernel)",
   "language": "python",
   "name": "python3"
  },
  "language_info": {
   "codemirror_mode": {
    "name": "ipython",
    "version": 3
   },
   "file_extension": ".py",
   "mimetype": "text/x-python",
   "name": "python",
   "nbconvert_exporter": "python",
   "pygments_lexer": "ipython3",
   "version": "3.11.7"
  }
 },
 "nbformat": 4,
 "nbformat_minor": 5
}
